{
 "cells": [
  {
   "cell_type": "code",
   "execution_count": 1,
   "id": "initial_id",
   "metadata": {
    "collapsed": true,
    "ExecuteTime": {
     "end_time": "2024-08-26T14:28:24.756369200Z",
     "start_time": "2024-08-26T14:28:19.458868600Z"
    }
   },
   "outputs": [],
   "source": [
    "import netket as nk\n",
    "import jax\n",
    "import jax.numpy as jnp\n",
    "import numpy as np\n",
    "from time import time\n",
    "from Models import RestrictedBoltzmannMachine\n",
    "from itertools import product\n",
    "from matplotlib import pyplot as plt\n",
    "from pathlib import Path\n",
    "import pickle\n",
    "import warnings\n",
    "warnings.simplefilter('ignore', UserWarning)"
   ]
  },
  {
   "cell_type": "code",
   "outputs": [],
   "source": [
    "image_path = Path('./images/7-NChainsOptimization')\n",
    "res_path = Path('./Simulations/7-NChainsOptimization')"
   ],
   "metadata": {
    "collapsed": false,
    "ExecuteTime": {
     "end_time": "2024-08-26T14:28:24.771367Z",
     "start_time": "2024-08-26T14:28:24.758867Z"
    }
   },
   "id": "efd183645e33479c",
   "execution_count": 2
  },
  {
   "cell_type": "code",
   "outputs": [
    {
     "data": {
      "text/plain": "(CpuDevice(id=0), CudaDevice(id=0))"
     },
     "execution_count": 3,
     "metadata": {},
     "output_type": "execute_result"
    }
   ],
   "source": [
    "cpu = jax.devices('cpu')[0]\n",
    "gpu = jax.devices('gpu')[0]\n",
    "cpu, gpu"
   ],
   "metadata": {
    "collapsed": false,
    "ExecuteTime": {
     "end_time": "2024-08-26T14:28:24.821367100Z",
     "start_time": "2024-08-26T14:28:24.762867900Z"
    }
   },
   "id": "dbdc7ffcb3a21bc4",
   "execution_count": 3
  },
  {
   "cell_type": "code",
   "outputs": [],
   "source": [
    "Sz = 0\n",
    "lr = 0.05\n",
    "ds = 0.1\n",
    "n_iter = 300"
   ],
   "metadata": {
    "collapsed": false,
    "ExecuteTime": {
     "end_time": "2024-08-26T14:28:27.235176300Z",
     "start_time": "2024-08-26T14:28:27.223675800Z"
    }
   },
   "id": "d4ccaecb1f144272",
   "execution_count": 4
  },
  {
   "cell_type": "code",
   "outputs": [],
   "source": [
    "n = 8 * 128\n",
    "extent = [3, 3]\n",
    "alpha_list = [2, 5]\n",
    "samples_list = [n, 6 * n]\n",
    "gpu_results = {}\n",
    "dn = 8\n",
    "n_chains_list = np.arange(8, 15 * dn, dn).tolist()"
   ],
   "metadata": {
    "collapsed": false,
    "ExecuteTime": {
     "end_time": "2024-08-26T14:28:27.684174100Z",
     "start_time": "2024-08-26T14:28:27.674676700Z"
    }
   },
   "id": "326ec62a2f20af17",
   "execution_count": 5
  },
  {
   "cell_type": "code",
   "outputs": [
    {
     "name": "stdout",
     "output_type": "stream",
     "text": [
      "alpha: 2, n_samples: 1024\n",
      "N_chains: 8\n",
      "Time: 111.871 seconds\n",
      "Computed energy: -40.15\n",
      "N_chains: 16\n",
      "Time: 83.231 seconds\n",
      "Computed energy: -40.27\n"
     ]
    },
    {
     "name": "stderr",
     "output_type": "stream",
     "text": [
      "/home/yelonek/project/venv/lib/python3.10/site-packages/netket/vqs/mc/mc_state/state.py:248: UserWarning: n_samples=1024 (1024 per device/MPI rank) does not divide n_chains=24, increased to 1032 (1032 per device/MPI rank)\n",
      "  self.n_samples = n_samples\n"
     ]
    },
    {
     "name": "stdout",
     "output_type": "stream",
     "text": [
      "N_chains: 24\n",
      "Time: 91.284 seconds\n",
      "Computed energy: -40.05\n",
      "N_chains: 32\n",
      "Time: 69.318 seconds\n",
      "Computed energy: -40.13\n"
     ]
    },
    {
     "name": "stderr",
     "output_type": "stream",
     "text": [
      "/home/yelonek/project/venv/lib/python3.10/site-packages/netket/vqs/mc/mc_state/state.py:248: UserWarning: n_samples=1024 (1024 per device/MPI rank) does not divide n_chains=40, increased to 1040 (1040 per device/MPI rank)\n",
      "  self.n_samples = n_samples\n"
     ]
    },
    {
     "name": "stdout",
     "output_type": "stream",
     "text": [
      "N_chains: 40\n",
      "Time: 85.100 seconds\n",
      "Computed energy: -40.23\n"
     ]
    },
    {
     "name": "stderr",
     "output_type": "stream",
     "text": [
      "/home/yelonek/project/venv/lib/python3.10/site-packages/netket/vqs/mc/mc_state/state.py:248: UserWarning: n_samples=1024 (1024 per device/MPI rank) does not divide n_chains=48, increased to 1056 (1056 per device/MPI rank)\n",
      "  self.n_samples = n_samples\n"
     ]
    },
    {
     "name": "stdout",
     "output_type": "stream",
     "text": [
      "N_chains: 48\n",
      "Time: 72.746 seconds\n",
      "Computed energy: -40.21\n"
     ]
    },
    {
     "name": "stderr",
     "output_type": "stream",
     "text": [
      "/home/yelonek/project/venv/lib/python3.10/site-packages/netket/vqs/mc/mc_state/state.py:248: UserWarning: n_samples=1024 (1024 per device/MPI rank) does not divide n_chains=56, increased to 1064 (1064 per device/MPI rank)\n",
      "  self.n_samples = n_samples\n"
     ]
    },
    {
     "name": "stdout",
     "output_type": "stream",
     "text": [
      "N_chains: 56\n",
      "Time: 68.532 seconds\n",
      "Computed energy: -40.12\n",
      "N_chains: 64\n",
      "Time: 64.762 seconds\n",
      "Computed energy: -40.20\n"
     ]
    },
    {
     "name": "stderr",
     "output_type": "stream",
     "text": [
      "/home/yelonek/project/venv/lib/python3.10/site-packages/netket/vqs/mc/mc_state/state.py:248: UserWarning: n_samples=1024 (1024 per device/MPI rank) does not divide n_chains=72, increased to 1080 (1080 per device/MPI rank)\n",
      "  self.n_samples = n_samples\n"
     ]
    },
    {
     "name": "stdout",
     "output_type": "stream",
     "text": [
      "N_chains: 72\n",
      "Time: 70.936 seconds\n",
      "Computed energy: -40.18\n"
     ]
    },
    {
     "name": "stderr",
     "output_type": "stream",
     "text": [
      "/home/yelonek/project/venv/lib/python3.10/site-packages/netket/vqs/mc/mc_state/state.py:248: UserWarning: n_samples=1024 (1024 per device/MPI rank) does not divide n_chains=80, increased to 1040 (1040 per device/MPI rank)\n",
      "  self.n_samples = n_samples\n"
     ]
    },
    {
     "name": "stdout",
     "output_type": "stream",
     "text": [
      "N_chains: 80\n",
      "Time: 63.644 seconds\n",
      "Computed energy: -40.19\n"
     ]
    },
    {
     "name": "stderr",
     "output_type": "stream",
     "text": [
      "/home/yelonek/project/venv/lib/python3.10/site-packages/netket/vqs/mc/mc_state/state.py:248: UserWarning: n_samples=1024 (1024 per device/MPI rank) does not divide n_chains=88, increased to 1056 (1056 per device/MPI rank)\n",
      "  self.n_samples = n_samples\n"
     ]
    },
    {
     "name": "stdout",
     "output_type": "stream",
     "text": [
      "N_chains: 88\n",
      "Time: 65.864 seconds\n",
      "Computed energy: -40.15\n"
     ]
    },
    {
     "name": "stderr",
     "output_type": "stream",
     "text": [
      "/home/yelonek/project/venv/lib/python3.10/site-packages/netket/vqs/mc/mc_state/state.py:248: UserWarning: n_samples=1024 (1024 per device/MPI rank) does not divide n_chains=96, increased to 1056 (1056 per device/MPI rank)\n",
      "  self.n_samples = n_samples\n"
     ]
    },
    {
     "name": "stdout",
     "output_type": "stream",
     "text": [
      "N_chains: 96\n",
      "Time: 64.019 seconds\n",
      "Computed energy: -40.26\n"
     ]
    },
    {
     "name": "stderr",
     "output_type": "stream",
     "text": [
      "/home/yelonek/project/venv/lib/python3.10/site-packages/netket/vqs/mc/mc_state/state.py:248: UserWarning: n_samples=1024 (1024 per device/MPI rank) does not divide n_chains=104, increased to 1040 (1040 per device/MPI rank)\n",
      "  self.n_samples = n_samples\n"
     ]
    },
    {
     "name": "stdout",
     "output_type": "stream",
     "text": [
      "N_chains: 104\n",
      "Time: 76.406 seconds\n",
      "Computed energy: -40.23\n"
     ]
    },
    {
     "name": "stderr",
     "output_type": "stream",
     "text": [
      "/home/yelonek/project/venv/lib/python3.10/site-packages/netket/vqs/mc/mc_state/state.py:248: UserWarning: n_samples=1024 (1024 per device/MPI rank) does not divide n_chains=112, increased to 1120 (1120 per device/MPI rank)\n",
      "  self.n_samples = n_samples\n"
     ]
    },
    {
     "name": "stdout",
     "output_type": "stream",
     "text": [
      "N_chains: 112\n",
      "Time: 66.919 seconds\n",
      "Computed energy: -40.25\n",
      "alpha: 2, n_samples: 6144\n",
      "N_chains: 8\n",
      "Time: 573.278 seconds\n",
      "Computed energy: -40.29\n",
      "N_chains: 16\n",
      "Time: 427.370 seconds\n",
      "Computed energy: -40.28\n",
      "N_chains: 24\n",
      "Time: 463.773 seconds\n",
      "Computed energy: -40.28\n",
      "N_chains: 32\n",
      "Time: 345.444 seconds\n",
      "Computed energy: -40.28\n"
     ]
    },
    {
     "name": "stderr",
     "output_type": "stream",
     "text": [
      "/home/yelonek/project/venv/lib/python3.10/site-packages/netket/vqs/mc/mc_state/state.py:248: UserWarning: n_samples=6144 (6144 per device/MPI rank) does not divide n_chains=40, increased to 6160 (6160 per device/MPI rank)\n",
      "  self.n_samples = n_samples\n"
     ]
    },
    {
     "name": "stdout",
     "output_type": "stream",
     "text": [
      "N_chains: 40\n",
      "Time: 417.617 seconds\n",
      "Computed energy: -40.31\n",
      "N_chains: 48\n",
      "Time: 331.769 seconds\n",
      "Computed energy: -40.23\n"
     ]
    },
    {
     "name": "stderr",
     "output_type": "stream",
     "text": [
      "/home/yelonek/project/venv/lib/python3.10/site-packages/netket/vqs/mc/mc_state/state.py:248: UserWarning: n_samples=6144 (6144 per device/MPI rank) does not divide n_chains=56, increased to 6160 (6160 per device/MPI rank)\n",
      "  self.n_samples = n_samples\n"
     ]
    },
    {
     "name": "stdout",
     "output_type": "stream",
     "text": [
      "N_chains: 56\n",
      "Time: 319.833 seconds\n",
      "Computed energy: -40.27\n",
      "N_chains: 64\n",
      "Time: 317.302 seconds\n",
      "Computed energy: -40.27\n"
     ]
    },
    {
     "name": "stderr",
     "output_type": "stream",
     "text": [
      "/home/yelonek/project/venv/lib/python3.10/site-packages/netket/vqs/mc/mc_state/state.py:248: UserWarning: n_samples=6144 (6144 per device/MPI rank) does not divide n_chains=72, increased to 6192 (6192 per device/MPI rank)\n",
      "  self.n_samples = n_samples\n"
     ]
    },
    {
     "name": "stdout",
     "output_type": "stream",
     "text": [
      "N_chains: 72\n",
      "Time: 336.499 seconds\n",
      "Computed energy: -40.30\n"
     ]
    },
    {
     "name": "stderr",
     "output_type": "stream",
     "text": [
      "/home/yelonek/project/venv/lib/python3.10/site-packages/netket/vqs/mc/mc_state/state.py:248: UserWarning: n_samples=6144 (6144 per device/MPI rank) does not divide n_chains=80, increased to 6160 (6160 per device/MPI rank)\n",
      "  self.n_samples = n_samples\n"
     ]
    },
    {
     "name": "stdout",
     "output_type": "stream",
     "text": [
      "N_chains: 80\n",
      "Time: 309.119 seconds\n",
      "Computed energy: -40.28\n"
     ]
    },
    {
     "name": "stderr",
     "output_type": "stream",
     "text": [
      "/home/yelonek/project/venv/lib/python3.10/site-packages/netket/vqs/mc/mc_state/state.py:248: UserWarning: n_samples=6144 (6144 per device/MPI rank) does not divide n_chains=88, increased to 6160 (6160 per device/MPI rank)\n",
      "  self.n_samples = n_samples\n"
     ]
    },
    {
     "name": "stdout",
     "output_type": "stream",
     "text": [
      "N_chains: 88\n",
      "Time: 316.586 seconds\n",
      "Computed energy: -40.28\n",
      "N_chains: 96\n",
      "Time: 306.751 seconds\n",
      "Computed energy: -40.27\n"
     ]
    },
    {
     "name": "stderr",
     "output_type": "stream",
     "text": [
      "/home/yelonek/project/venv/lib/python3.10/site-packages/netket/vqs/mc/mc_state/state.py:248: UserWarning: n_samples=6144 (6144 per device/MPI rank) does not divide n_chains=104, increased to 6240 (6240 per device/MPI rank)\n",
      "  self.n_samples = n_samples\n"
     ]
    },
    {
     "name": "stdout",
     "output_type": "stream",
     "text": [
      "N_chains: 104\n",
      "Time: 389.402 seconds\n",
      "Computed energy: -40.28\n"
     ]
    },
    {
     "name": "stderr",
     "output_type": "stream",
     "text": [
      "/home/yelonek/project/venv/lib/python3.10/site-packages/netket/vqs/mc/mc_state/state.py:248: UserWarning: n_samples=6144 (6144 per device/MPI rank) does not divide n_chains=112, increased to 6160 (6160 per device/MPI rank)\n",
      "  self.n_samples = n_samples\n"
     ]
    },
    {
     "name": "stdout",
     "output_type": "stream",
     "text": [
      "N_chains: 112\n",
      "Time: 302.838 seconds\n",
      "Computed energy: -40.30\n",
      "alpha: 5, n_samples: 1024\n",
      "N_chains: 8\n",
      "Time: 112.392 seconds\n",
      "Computed energy: -40.26\n",
      "N_chains: 16\n",
      "Time: 88.427 seconds\n",
      "Computed energy: -40.24\n"
     ]
    },
    {
     "name": "stderr",
     "output_type": "stream",
     "text": [
      "/home/yelonek/project/venv/lib/python3.10/site-packages/netket/vqs/mc/mc_state/state.py:248: UserWarning: n_samples=1024 (1024 per device/MPI rank) does not divide n_chains=24, increased to 1032 (1032 per device/MPI rank)\n",
      "  self.n_samples = n_samples\n"
     ]
    },
    {
     "name": "stdout",
     "output_type": "stream",
     "text": [
      "N_chains: 24\n",
      "Time: 85.852 seconds\n",
      "Computed energy: -40.25\n",
      "N_chains: 32\n",
      "Time: 79.318 seconds\n",
      "Computed energy: -40.20\n"
     ]
    },
    {
     "name": "stderr",
     "output_type": "stream",
     "text": [
      "/home/yelonek/project/venv/lib/python3.10/site-packages/netket/vqs/mc/mc_state/state.py:248: UserWarning: n_samples=1024 (1024 per device/MPI rank) does not divide n_chains=40, increased to 1040 (1040 per device/MPI rank)\n",
      "  self.n_samples = n_samples\n"
     ]
    },
    {
     "name": "stdout",
     "output_type": "stream",
     "text": [
      "N_chains: 40\n",
      "Time: 81.789 seconds\n",
      "Computed energy: -40.32\n"
     ]
    },
    {
     "name": "stderr",
     "output_type": "stream",
     "text": [
      "/home/yelonek/project/venv/lib/python3.10/site-packages/netket/vqs/mc/mc_state/state.py:248: UserWarning: n_samples=1024 (1024 per device/MPI rank) does not divide n_chains=48, increased to 1056 (1056 per device/MPI rank)\n",
      "  self.n_samples = n_samples\n"
     ]
    },
    {
     "name": "stdout",
     "output_type": "stream",
     "text": [
      "N_chains: 48\n",
      "Time: 91.441 seconds\n",
      "Computed energy: -40.29\n"
     ]
    },
    {
     "name": "stderr",
     "output_type": "stream",
     "text": [
      "/home/yelonek/project/venv/lib/python3.10/site-packages/netket/vqs/mc/mc_state/state.py:248: UserWarning: n_samples=1024 (1024 per device/MPI rank) does not divide n_chains=56, increased to 1064 (1064 per device/MPI rank)\n",
      "  self.n_samples = n_samples\n"
     ]
    },
    {
     "name": "stdout",
     "output_type": "stream",
     "text": [
      "N_chains: 56\n",
      "Time: 79.109 seconds\n",
      "Computed energy: -40.23\n",
      "N_chains: 64\n",
      "Time: 80.263 seconds\n",
      "Computed energy: -40.31\n"
     ]
    },
    {
     "name": "stderr",
     "output_type": "stream",
     "text": [
      "/home/yelonek/project/venv/lib/python3.10/site-packages/netket/vqs/mc/mc_state/state.py:248: UserWarning: n_samples=1024 (1024 per device/MPI rank) does not divide n_chains=72, increased to 1080 (1080 per device/MPI rank)\n",
      "  self.n_samples = n_samples\n"
     ]
    },
    {
     "name": "stdout",
     "output_type": "stream",
     "text": [
      "N_chains: 72\n",
      "Time: 86.420 seconds\n",
      "Computed energy: -40.32\n"
     ]
    },
    {
     "name": "stderr",
     "output_type": "stream",
     "text": [
      "/home/yelonek/project/venv/lib/python3.10/site-packages/netket/vqs/mc/mc_state/state.py:248: UserWarning: n_samples=1024 (1024 per device/MPI rank) does not divide n_chains=80, increased to 1040 (1040 per device/MPI rank)\n",
      "  self.n_samples = n_samples\n"
     ]
    },
    {
     "name": "stdout",
     "output_type": "stream",
     "text": [
      "N_chains: 80\n",
      "Time: 81.516 seconds\n",
      "Computed energy: -40.24\n"
     ]
    },
    {
     "name": "stderr",
     "output_type": "stream",
     "text": [
      "/home/yelonek/project/venv/lib/python3.10/site-packages/netket/vqs/mc/mc_state/state.py:248: UserWarning: n_samples=1024 (1024 per device/MPI rank) does not divide n_chains=88, increased to 1056 (1056 per device/MPI rank)\n",
      "  self.n_samples = n_samples\n"
     ]
    },
    {
     "name": "stdout",
     "output_type": "stream",
     "text": [
      "N_chains: 88\n",
      "Time: 107.610 seconds\n",
      "Computed energy: -40.27\n"
     ]
    },
    {
     "name": "stderr",
     "output_type": "stream",
     "text": [
      "/home/yelonek/project/venv/lib/python3.10/site-packages/netket/vqs/mc/mc_state/state.py:248: UserWarning: n_samples=1024 (1024 per device/MPI rank) does not divide n_chains=96, increased to 1056 (1056 per device/MPI rank)\n",
      "  self.n_samples = n_samples\n"
     ]
    },
    {
     "name": "stdout",
     "output_type": "stream",
     "text": [
      "N_chains: 96\n",
      "Time: 106.653 seconds\n",
      "Computed energy: -40.29\n"
     ]
    },
    {
     "name": "stderr",
     "output_type": "stream",
     "text": [
      "/home/yelonek/project/venv/lib/python3.10/site-packages/netket/vqs/mc/mc_state/state.py:248: UserWarning: n_samples=1024 (1024 per device/MPI rank) does not divide n_chains=104, increased to 1040 (1040 per device/MPI rank)\n",
      "  self.n_samples = n_samples\n"
     ]
    },
    {
     "name": "stdout",
     "output_type": "stream",
     "text": [
      "N_chains: 104\n",
      "Time: 104.974 seconds\n",
      "Computed energy: -40.20\n"
     ]
    },
    {
     "name": "stderr",
     "output_type": "stream",
     "text": [
      "/home/yelonek/project/venv/lib/python3.10/site-packages/netket/vqs/mc/mc_state/state.py:248: UserWarning: n_samples=1024 (1024 per device/MPI rank) does not divide n_chains=112, increased to 1120 (1120 per device/MPI rank)\n",
      "  self.n_samples = n_samples\n"
     ]
    },
    {
     "name": "stdout",
     "output_type": "stream",
     "text": [
      "N_chains: 112\n",
      "Time: 115.052 seconds\n",
      "Computed energy: -40.20\n",
      "alpha: 5, n_samples: 6144\n",
      "N_chains: 8\n",
      "Time: 612.943 seconds\n",
      "Computed energy: -40.32\n",
      "N_chains: 16\n",
      "Time: 463.268 seconds\n",
      "Computed energy: -40.31\n",
      "N_chains: 24\n",
      "Time: 436.895 seconds\n",
      "Computed energy: -40.34\n",
      "N_chains: 32\n",
      "Time: 411.522 seconds\n",
      "Computed energy: -40.32\n"
     ]
    },
    {
     "name": "stderr",
     "output_type": "stream",
     "text": [
      "/home/yelonek/project/venv/lib/python3.10/site-packages/netket/vqs/mc/mc_state/state.py:248: UserWarning: n_samples=6144 (6144 per device/MPI rank) does not divide n_chains=40, increased to 6160 (6160 per device/MPI rank)\n",
      "  self.n_samples = n_samples\n"
     ]
    },
    {
     "name": "stdout",
     "output_type": "stream",
     "text": [
      "N_chains: 40\n",
      "Time: 400.395 seconds\n",
      "Computed energy: -40.33\n",
      "N_chains: 48\n",
      "Time: 460.542 seconds\n",
      "Computed energy: -40.33\n"
     ]
    },
    {
     "name": "stderr",
     "output_type": "stream",
     "text": [
      "/home/yelonek/project/venv/lib/python3.10/site-packages/netket/vqs/mc/mc_state/state.py:248: UserWarning: n_samples=6144 (6144 per device/MPI rank) does not divide n_chains=56, increased to 6160 (6160 per device/MPI rank)\n",
      "  self.n_samples = n_samples\n"
     ]
    },
    {
     "name": "stdout",
     "output_type": "stream",
     "text": [
      "N_chains: 56\n",
      "Time: 383.234 seconds\n",
      "Computed energy: -40.30\n",
      "N_chains: 64\n",
      "Time: 408.859 seconds\n",
      "Computed energy: -40.33\n"
     ]
    },
    {
     "name": "stderr",
     "output_type": "stream",
     "text": [
      "/home/yelonek/project/venv/lib/python3.10/site-packages/netket/vqs/mc/mc_state/state.py:248: UserWarning: n_samples=6144 (6144 per device/MPI rank) does not divide n_chains=72, increased to 6192 (6192 per device/MPI rank)\n",
      "  self.n_samples = n_samples\n"
     ]
    },
    {
     "name": "stdout",
     "output_type": "stream",
     "text": [
      "N_chains: 72\n",
      "Time: 421.363 seconds\n",
      "Computed energy: -40.32\n"
     ]
    },
    {
     "name": "stderr",
     "output_type": "stream",
     "text": [
      "/home/yelonek/project/venv/lib/python3.10/site-packages/netket/vqs/mc/mc_state/state.py:248: UserWarning: n_samples=6144 (6144 per device/MPI rank) does not divide n_chains=80, increased to 6160 (6160 per device/MPI rank)\n",
      "  self.n_samples = n_samples\n"
     ]
    },
    {
     "name": "stdout",
     "output_type": "stream",
     "text": [
      "N_chains: 80\n",
      "Time: 415.034 seconds\n",
      "Computed energy: -40.33\n"
     ]
    },
    {
     "name": "stderr",
     "output_type": "stream",
     "text": [
      "/home/yelonek/project/venv/lib/python3.10/site-packages/netket/vqs/mc/mc_state/state.py:248: UserWarning: n_samples=6144 (6144 per device/MPI rank) does not divide n_chains=88, increased to 6160 (6160 per device/MPI rank)\n",
      "  self.n_samples = n_samples\n"
     ]
    },
    {
     "name": "stdout",
     "output_type": "stream",
     "text": [
      "N_chains: 88\n",
      "Time: 556.174 seconds\n",
      "Computed energy: -40.31\n",
      "N_chains: 96\n",
      "Time: 551.144 seconds\n",
      "Computed energy: -40.32\n"
     ]
    },
    {
     "name": "stderr",
     "output_type": "stream",
     "text": [
      "/home/yelonek/project/venv/lib/python3.10/site-packages/netket/vqs/mc/mc_state/state.py:248: UserWarning: n_samples=6144 (6144 per device/MPI rank) does not divide n_chains=104, increased to 6240 (6240 per device/MPI rank)\n",
      "  self.n_samples = n_samples\n"
     ]
    },
    {
     "name": "stdout",
     "output_type": "stream",
     "text": [
      "N_chains: 104\n",
      "Time: 562.802 seconds\n",
      "Computed energy: -40.35\n"
     ]
    },
    {
     "name": "stderr",
     "output_type": "stream",
     "text": [
      "/home/yelonek/project/venv/lib/python3.10/site-packages/netket/vqs/mc/mc_state/state.py:248: UserWarning: n_samples=6144 (6144 per device/MPI rank) does not divide n_chains=112, increased to 6160 (6160 per device/MPI rank)\n",
      "  self.n_samples = n_samples\n"
     ]
    },
    {
     "name": "stdout",
     "output_type": "stream",
     "text": [
      "N_chains: 112\n",
      "Time: 563.962 seconds\n",
      "Computed energy: -40.34\n"
     ]
    }
   ],
   "source": [
    "with jax.default_device(gpu):\n",
    "    for alpha, n_samples in product(alpha_list, samples_list):\n",
    "        t_res = []\n",
    "        print(f'alpha: {alpha}, n_samples: {n_samples}')\n",
    "        for n_chains in n_chains_list:\n",
    "            honey = nk.graph.Honeycomb(extent=extent, pbc=True)\n",
    "            hilbert = nk.hilbert.Spin(s=1/2, N=honey.n_nodes, total_sz=Sz)\n",
    "            hamiltonian = nk.operator.Heisenberg(hilbert=hilbert, graph=honey, J=1)\n",
    "            sampler = nk.sampler.MetropolisExchange(hilbert=hilbert, graph=honey, n_chains_per_rank=n_chains)\n",
    "            optimizer = nk.optimizer.Sgd(learning_rate=lr)\n",
    "            sr = nk.optimizer.SR(diag_shift=ds, holomorphic=True)\n",
    "            rbm = RestrictedBoltzmannMachine(alpha=alpha, param_dtype=jnp.complex64)\n",
    "            vstate = nk.vqs.MCState(sampler, rbm, n_samples=n_samples)\n",
    "            gs = nk.VMC(hamiltonian=hamiltonian, optimizer=optimizer, \n",
    "                        preconditioner=sr, variational_state=vstate)\n",
    "            \n",
    "            start = time()\n",
    "            gs.run(n_iter=n_iter, show_progress=False)\n",
    "            print(f'N_chains: {n_chains}')\n",
    "            print(f'Time: {(t := time()-start):.3f} seconds')\n",
    "            t_res.append(t)\n",
    "            print(f'Computed energy: {gs.energy.mean.real:.2f}')\n",
    "        gpu_results[(alpha, n_samples)] = t_res"
   ],
   "metadata": {
    "collapsed": false,
    "ExecuteTime": {
     "end_time": "2024-08-25T19:05:22.861056400Z",
     "start_time": "2024-08-25T15:08:56.867558400Z"
    }
   },
   "id": "e58da3510e96c00b",
   "execution_count": 5
  },
  {
   "cell_type": "code",
   "outputs": [
    {
     "data": {
      "text/plain": "<Figure size 800x900 with 2 Axes>",
      "image/png": "[encoded data removed]"
     },
     "metadata": {},
     "output_type": "display_data"
    }
   ],
   "source": [
    "colors = ['maroon', 'maroon', 'darkgreen', 'darkgreen']\n",
    "figure, axes = plt.subplots(2, 1, layout='constrained', figsize=(8, 9))\n",
    "for ((alpha, n_samples), times), ax, color in zip(gpu_results.items(), 2*[axes[0], axes[1]], colors):\n",
    "    ax.plot(n_chains_list, times, label=f'$\\\\alpha={alpha}$', color=color)\n",
    "axes[0].set(xticks=n_chains_list, ylabel='time', title=f'{samples_list[0]} samples')\n",
    "axes[1].set(xticks=n_chains_list, xlabel='number of chains', ylabel='time',\n",
    "            title=f'{samples_list[1]} samples')\n",
    "for ax in figure.axes:\n",
    "    ax.legend()\n",
    "    ax.grid()\n",
    "figure.suptitle(f'Number of chains comparison for extent={extent} with {honey.n_nodes} nodes after {n_iter} epochs')\n",
    "figure.savefig(image_path / f'NodesGpuExtent{extent}.png')"
   ],
   "metadata": {
    "collapsed": false,
    "ExecuteTime": {
     "end_time": "2024-08-25T19:48:57.601619700Z",
     "start_time": "2024-08-25T19:48:55.768616400Z"
    }
   },
   "id": "4a3d34b21176fae4",
   "execution_count": 27
  },
  {
   "cell_type": "code",
   "outputs": [],
   "source": [
    "total_result = {tuple([3, 3]): gpu_results}"
   ],
   "metadata": {
    "collapsed": false,
    "ExecuteTime": {
     "end_time": "2024-08-26T11:24:04.876154200Z",
     "start_time": "2024-08-26T11:24:04.852655200Z"
    }
   },
   "id": "74d50a37da7c95f9",
   "execution_count": 49
  },
  {
   "cell_type": "code",
   "outputs": [],
   "source": [
    "gpu_results2 = {}\n",
    "extent = [5, 5]\n",
    "n_iter = 150"
   ],
   "metadata": {
    "collapsed": false,
    "ExecuteTime": {
     "end_time": "2024-08-25T19:56:21.484104400Z",
     "start_time": "2024-08-25T19:56:21.472607400Z"
    }
   },
   "id": "d4b948726044e155",
   "execution_count": 30
  },
  {
   "cell_type": "code",
   "outputs": [
    {
     "name": "stdout",
     "output_type": "stream",
     "text": [
      "alpha: 2, n_samples: 1024\n",
      "N_chains: 8\n",
      "Time: 169.907 seconds\n",
      "Computed energy: -107.05\n",
      "N_chains: 16\n",
      "Time: 130.218 seconds\n",
      "Computed energy: -106.83\n",
      "N_chains: 24\n",
      "Time: 140.208 seconds\n",
      "Computed energy: -106.75\n",
      "N_chains: 32\n",
      "Time: 108.130 seconds\n",
      "Computed energy: -106.98\n",
      "N_chains: 40\n",
      "Time: 107.658 seconds\n",
      "Computed energy: -107.26\n",
      "N_chains: 48\n",
      "Time: 118.512 seconds\n",
      "Computed energy: -107.20\n",
      "N_chains: 56\n",
      "Time: 121.087 seconds\n",
      "Computed energy: -107.14\n",
      "N_chains: 64\n",
      "Time: 117.474 seconds\n",
      "Computed energy: -107.11\n",
      "N_chains: 72\n",
      "Time: 130.049 seconds\n",
      "Computed energy: -107.13\n",
      "N_chains: 80\n",
      "Time: 119.689 seconds\n",
      "Computed energy: -107.09\n",
      "N_chains: 88\n",
      "Time: 148.212 seconds\n",
      "Computed energy: -107.02\n",
      "N_chains: 96\n",
      "Time: 149.549 seconds\n",
      "Computed energy: -107.28\n",
      "N_chains: 104\n",
      "Time: 163.796 seconds\n",
      "Computed energy: -107.12\n",
      "N_chains: 112\n",
      "Time: 186.070 seconds\n",
      "Computed energy: -106.86\n",
      "alpha: 2, n_samples: 6144\n",
      "N_chains: 8\n",
      "Time: 1019.395 seconds\n",
      "Computed energy: -108.20\n",
      "N_chains: 16\n",
      "Time: 753.599 seconds\n",
      "Computed energy: -108.22\n",
      "N_chains: 24\n",
      "Time: 801.237 seconds\n",
      "Computed energy: -108.19\n",
      "N_chains: 32\n",
      "Time: 620.861 seconds\n",
      "Computed energy: -108.24\n",
      "N_chains: 40\n",
      "Time: 619.160 seconds\n",
      "Computed energy: -108.24\n",
      "N_chains: 48\n",
      "Time: 601.313 seconds\n",
      "Computed energy: -108.25\n",
      "N_chains: 56\n",
      "Time: 587.227 seconds\n",
      "Computed energy: -108.20\n",
      "N_chains: 64\n",
      "Time: 651.838 seconds\n",
      "Computed energy: -108.27\n",
      "N_chains: 72\n",
      "Time: 665.889 seconds\n",
      "Computed energy: -108.28\n",
      "N_chains: 80\n",
      "Time: 641.246 seconds\n",
      "Computed energy: -108.27\n",
      "N_chains: 88\n",
      "Time: 805.129 seconds\n",
      "Computed energy: -108.26\n",
      "N_chains: 96\n",
      "Time: 804.128 seconds\n",
      "Computed energy: -108.24\n",
      "N_chains: 104\n",
      "Time: 935.636 seconds\n",
      "Computed energy: -108.25\n",
      "N_chains: 112\n",
      "Time: 940.893 seconds\n",
      "Computed energy: -108.17\n",
      "alpha: 5, n_samples: 1024\n",
      "N_chains: 8\n",
      "Time: 205.175 seconds\n",
      "Computed energy: -107.24\n",
      "N_chains: 16\n",
      "Time: 184.036 seconds\n",
      "Computed energy: -106.85\n",
      "N_chains: 24\n",
      "Time: 170.758 seconds\n",
      "Computed energy: -107.00\n",
      "N_chains: 32\n",
      "Time: 153.800 seconds\n",
      "Computed energy: -106.84\n",
      "N_chains: 40\n",
      "Time: 181.145 seconds\n",
      "Computed energy: -107.17\n",
      "N_chains: 48\n",
      "Time: 179.849 seconds\n",
      "Computed energy: -107.37\n",
      "N_chains: 56\n",
      "Time: 176.902 seconds\n",
      "Computed energy: -107.09\n",
      "N_chains: 64\n",
      "Time: 170.009 seconds\n",
      "Computed energy: -107.00\n",
      "N_chains: 72\n",
      "Time: 187.130 seconds\n",
      "Computed energy: -107.34\n",
      "N_chains: 80\n",
      "Time: 175.369 seconds\n",
      "Computed energy: -107.32\n",
      "N_chains: 88\n",
      "Time: 182.058 seconds\n",
      "Computed energy: -107.38\n",
      "N_chains: 96\n",
      "Time: 188.863 seconds\n",
      "Computed energy: -107.10\n",
      "N_chains: 104\n",
      "Time: 222.513 seconds\n",
      "Computed energy: -107.06\n",
      "N_chains: 112\n",
      "Time: 241.148 seconds\n",
      "Computed energy: -107.16\n",
      "alpha: 5, n_samples: 6144\n",
      "N_chains: 8\n",
      "Time: 1129.846 seconds\n",
      "Computed energy: -108.27\n",
      "N_chains: 16\n",
      "Time: 1024.518 seconds\n",
      "Computed energy: -108.28\n",
      "N_chains: 24\n",
      "Time: 918.536 seconds\n",
      "Computed energy: -108.35\n",
      "N_chains: 32\n",
      "Time: 827.654 seconds\n",
      "Computed energy: -108.34\n",
      "N_chains: 40\n",
      "Time: 986.951 seconds\n",
      "Computed energy: -108.23\n",
      "N_chains: 48\n",
      "Time: 942.678 seconds\n",
      "Computed energy: -108.20\n",
      "N_chains: 56\n",
      "Time: 929.845 seconds\n",
      "Computed energy: -108.34\n",
      "N_chains: 64\n",
      "Time: 964.409 seconds\n",
      "Computed energy: -108.23\n",
      "N_chains: 72\n",
      "Time: 970.603 seconds\n",
      "Computed energy: -108.25\n",
      "N_chains: 80\n",
      "Time: 949.123 seconds\n",
      "Computed energy: -108.38\n",
      "N_chains: 88\n",
      "Time: 988.798 seconds\n",
      "Computed energy: -108.31\n",
      "N_chains: 96\n",
      "Time: 1062.539 seconds\n",
      "Computed energy: -108.34\n",
      "N_chains: 104\n",
      "Time: 1256.628 seconds\n",
      "Computed energy: -108.24\n",
      "N_chains: 112\n",
      "Time: 1218.744 seconds\n",
      "Computed energy: -108.28\n"
     ]
    }
   ],
   "source": [
    "with jax.default_device(gpu):\n",
    "    for alpha, n_samples in product(alpha_list, samples_list):\n",
    "        t_res = []\n",
    "        print(f'alpha: {alpha}, n_samples: {n_samples}')\n",
    "        for n_chains in n_chains_list:\n",
    "            honey = nk.graph.Honeycomb(extent=extent, pbc=True)\n",
    "            hilbert = nk.hilbert.Spin(s=1/2, N=honey.n_nodes, total_sz=Sz)\n",
    "            hamiltonian = nk.operator.Heisenberg(hilbert=hilbert, graph=honey, J=1)\n",
    "            sampler = nk.sampler.MetropolisExchange(hilbert=hilbert, graph=honey, n_chains_per_rank=n_chains)\n",
    "            optimizer = nk.optimizer.Sgd(learning_rate=lr)\n",
    "            sr = nk.optimizer.SR(diag_shift=ds, holomorphic=True)\n",
    "            rbm = RestrictedBoltzmannMachine(alpha=alpha, param_dtype=jnp.complex64)\n",
    "            vstate = nk.vqs.MCState(sampler, rbm, n_samples=n_samples)\n",
    "            gs = nk.VMC(hamiltonian=hamiltonian, optimizer=optimizer, \n",
    "                        preconditioner=sr, variational_state=vstate)\n",
    "            \n",
    "            start = time()\n",
    "            gs.run(n_iter=n_iter, show_progress=False)\n",
    "            print(f'N_chains: {n_chains}')\n",
    "            print(f'Time: {(t := time()-start):.3f} seconds')\n",
    "            t_res.append(t)\n",
    "            print(f'Computed energy: {gs.energy.mean.real:.2f}')\n",
    "        gpu_results2[(alpha, n_samples)] = t_res"
   ],
   "metadata": {
    "collapsed": false,
    "ExecuteTime": {
     "end_time": "2024-08-26T04:02:32.346076400Z",
     "start_time": "2024-08-25T19:56:21.747606500Z"
    }
   },
   "id": "1cb81d99586db23e",
   "execution_count": 31
  },
  {
   "cell_type": "code",
   "outputs": [],
   "source": [
    "total_result[tuple(extent)] = gpu_results2"
   ],
   "metadata": {
    "collapsed": false,
    "ExecuteTime": {
     "end_time": "2024-08-26T11:24:08.891096500Z",
     "start_time": "2024-08-26T11:24:08.881098500Z"
    }
   },
   "id": "60f470dd0f44c6c2",
   "execution_count": 50
  },
  {
   "cell_type": "code",
   "outputs": [
    {
     "data": {
      "text/plain": "<Figure size 800x900 with 2 Axes>",
      "image/png": "[encoded data removed]"
     },
     "metadata": {},
     "output_type": "display_data"
    }
   ],
   "source": [
    "colors = ['maroon', 'maroon', 'darkgreen', 'darkgreen']\n",
    "figure, axes = plt.subplots(2, 1, layout='constrained', figsize=(8, 9))\n",
    "for ((alpha, n_samples), times), ax, color in zip(gpu_results2.items(), 2*[axes[0], axes[1]], colors):\n",
    "    ax.plot(n_chains_list, times, label=f'$\\\\alpha={alpha}$', color=color)\n",
    "axes[0].set(xticks=n_chains_list, ylabel='time', title=f'{samples_list[0]} samples')\n",
    "axes[1].set(xticks=n_chains_list, xlabel='number of chains', ylabel='time',\n",
    "            title=f'{samples_list[1]} samples')\n",
    "for ax in figure.axes:\n",
    "    ax.legend()\n",
    "    ax.grid()\n",
    "figure.suptitle(f'Number of chains comparison for extent={extent} with {honey.n_nodes} nodes after {n_iter} epochs')\n",
    "figure.savefig(image_path / f'NodesGpuExtent{extent}.png')"
   ],
   "metadata": {
    "collapsed": false,
    "ExecuteTime": {
     "end_time": "2024-08-26T08:45:40.423708700Z",
     "start_time": "2024-08-26T08:45:38.986707400Z"
    }
   },
   "id": "478e4b5375a2a7c4",
   "execution_count": 34
  },
  {
   "cell_type": "code",
   "outputs": [],
   "source": [
    "with open(res_path / f'GpuNChains.pkl', 'wb') as file:\n",
    "    pickle.dump(total_result, file)"
   ],
   "metadata": {
    "collapsed": false,
    "ExecuteTime": {
     "end_time": "2024-08-26T11:24:11.817100Z",
     "start_time": "2024-08-26T11:24:11.804596900Z"
    }
   },
   "id": "a354b187df4ed8b7",
   "execution_count": 51
  },
  {
   "cell_type": "code",
   "outputs": [],
   "source": [
    "with open(res_path / f'GpuNChains.pkl', 'rb') as file:\n",
    "    test_read =  pickle.load(file)"
   ],
   "metadata": {
    "collapsed": false,
    "ExecuteTime": {
     "end_time": "2024-08-26T11:51:05.911468Z",
     "start_time": "2024-08-26T11:51:05.899967200Z"
    }
   },
   "id": "107227c719435abf",
   "execution_count": 54
  },
  {
   "cell_type": "markdown",
   "source": [
    "Testing CPU"
   ],
   "metadata": {
    "collapsed": false
   },
   "id": "972ba23ca6d01c94"
  },
  {
   "cell_type": "code",
   "outputs": [],
   "source": [
    "extent = [3, 3]\n",
    "cpu_results = {}\n",
    "dn = 2\n",
    "n_iter = 30\n",
    "n_chains_list = np.arange(2, 20 * dn, dn).tolist()"
   ],
   "metadata": {
    "collapsed": false,
    "ExecuteTime": {
     "end_time": "2024-08-26T14:28:36.638674300Z",
     "start_time": "2024-08-26T14:28:36.628174700Z"
    }
   },
   "id": "adedd5cd4c595a51",
   "execution_count": 6
  },
  {
   "cell_type": "code",
   "outputs": [
    {
     "name": "stdout",
     "output_type": "stream",
     "text": [
      "alpha: 2, n_samples: 1024\n",
      "N_chains: 2\n",
      "Time: 21.777 seconds\n",
      "Computed energy: -40.00\n",
      "N_chains: 4\n",
      "Time: 18.641 seconds\n",
      "Computed energy: -40.22\n",
      "N_chains: 6\n",
      "Time: 20.147 seconds\n",
      "Computed energy: -40.16\n",
      "N_chains: 8\n",
      "Time: 20.281 seconds\n",
      "Computed energy: -40.01\n",
      "N_chains: 10\n",
      "Time: 22.352 seconds\n",
      "Computed energy: -40.12\n",
      "N_chains: 12\n",
      "Time: 23.312 seconds\n",
      "Computed energy: -40.10\n",
      "N_chains: 14\n",
      "Time: 24.757 seconds\n",
      "Computed energy: -40.01\n",
      "N_chains: 16\n",
      "Time: 24.690 seconds\n",
      "Computed energy: -40.02\n",
      "N_chains: 18\n",
      "Time: 26.176 seconds\n",
      "Computed energy: -39.97\n",
      "N_chains: 20\n",
      "Time: 27.792 seconds\n",
      "Computed energy: -40.08\n",
      "N_chains: 22\n",
      "Time: 28.889 seconds\n",
      "Computed energy: -40.08\n",
      "N_chains: 24\n",
      "Time: 29.482 seconds\n",
      "Computed energy: -40.11\n",
      "N_chains: 26\n",
      "Time: 30.786 seconds\n",
      "Computed energy: -40.08\n",
      "N_chains: 28\n",
      "Time: 31.355 seconds\n",
      "Computed energy: -40.09\n",
      "N_chains: 30\n",
      "Time: 33.595 seconds\n",
      "Computed energy: -40.00\n",
      "N_chains: 32\n",
      "Time: 33.105 seconds\n",
      "Computed energy: -40.11\n",
      "N_chains: 34\n",
      "Time: 35.871 seconds\n",
      "Computed energy: -40.14\n",
      "N_chains: 36\n",
      "Time: 36.586 seconds\n",
      "Computed energy: -40.08\n",
      "N_chains: 38\n",
      "Time: 37.356 seconds\n",
      "Computed energy: -40.09\n",
      "alpha: 2, n_samples: 6144\n",
      "N_chains: 2\n",
      "Time: 87.449 seconds\n",
      "Computed energy: -40.23\n",
      "N_chains: 4\n",
      "Time: 89.467 seconds\n",
      "Computed energy: -40.25\n",
      "N_chains: 6\n",
      "Time: 97.775 seconds\n",
      "Computed energy: -40.24\n",
      "N_chains: 8\n",
      "Time: 100.729 seconds\n",
      "Computed energy: -40.19\n",
      "N_chains: 10\n",
      "Time: 110.392 seconds\n",
      "Computed energy: -40.19\n",
      "N_chains: 12\n",
      "Time: 116.177 seconds\n",
      "Computed energy: -40.16\n",
      "N_chains: 14\n",
      "Time: 125.921 seconds\n",
      "Computed energy: -40.22\n",
      "N_chains: 16\n",
      "Time: 128.128 seconds\n",
      "Computed energy: -40.20\n",
      "N_chains: 18\n",
      "Time: 136.334 seconds\n",
      "Computed energy: -40.21\n",
      "N_chains: 20\n",
      "Time: 144.919 seconds\n",
      "Computed energy: -40.21\n",
      "N_chains: 22\n",
      "Time: 150.240 seconds\n",
      "Computed energy: -40.23\n",
      "N_chains: 24\n",
      "Time: 153.702 seconds\n",
      "Computed energy: -40.23\n",
      "N_chains: 26\n",
      "Time: 161.798 seconds\n",
      "Computed energy: -40.24\n",
      "N_chains: 28\n",
      "Time: 167.270 seconds\n",
      "Computed energy: -40.23\n",
      "N_chains: 30\n",
      "Time: 173.911 seconds\n",
      "Computed energy: -40.15\n",
      "N_chains: 32\n",
      "Time: 178.756 seconds\n",
      "Computed energy: -40.22\n",
      "N_chains: 34\n",
      "Time: 187.827 seconds\n",
      "Computed energy: -40.21\n",
      "N_chains: 36\n",
      "Time: 192.820 seconds\n",
      "Computed energy: -40.20\n",
      "N_chains: 38\n",
      "Time: 198.865 seconds\n",
      "Computed energy: -40.19\n",
      "alpha: 5, n_samples: 1024\n",
      "N_chains: 2\n",
      "Time: 36.148 seconds\n",
      "Computed energy: -40.08\n",
      "N_chains: 4\n",
      "Time: 37.159 seconds\n",
      "Computed energy: -40.02\n",
      "N_chains: 6\n",
      "Time: 40.153 seconds\n",
      "Computed energy: -40.04\n",
      "N_chains: 8\n",
      "Time: 41.863 seconds\n",
      "Computed energy: -40.20\n",
      "N_chains: 10\n",
      "Time: 45.907 seconds\n",
      "Computed energy: -39.89\n",
      "N_chains: 12\n",
      "Time: 48.349 seconds\n",
      "Computed energy: -39.97\n",
      "N_chains: 14\n",
      "Time: 50.412 seconds\n",
      "Computed energy: -40.11\n",
      "N_chains: 16\n",
      "Time: 51.298 seconds\n",
      "Computed energy: -40.06\n",
      "N_chains: 18\n",
      "Time: 54.557 seconds\n",
      "Computed energy: -40.12\n",
      "N_chains: 20\n",
      "Time: 59.204 seconds\n",
      "Computed energy: -40.10\n",
      "N_chains: 22\n",
      "Time: 62.689 seconds\n",
      "Computed energy: -40.11\n",
      "N_chains: 24\n",
      "Time: 64.608 seconds\n",
      "Computed energy: -40.08\n",
      "N_chains: 26\n",
      "Time: 67.247 seconds\n",
      "Computed energy: -40.05\n",
      "N_chains: 28\n",
      "Time: 69.398 seconds\n",
      "Computed energy: -39.97\n",
      "N_chains: 30\n",
      "Time: 73.365 seconds\n",
      "Computed energy: -40.14\n",
      "N_chains: 32\n",
      "Time: 72.883 seconds\n",
      "Computed energy: -39.88\n",
      "N_chains: 34\n",
      "Time: 77.791 seconds\n",
      "Computed energy: -40.11\n",
      "N_chains: 36\n",
      "Time: 79.592 seconds\n",
      "Computed energy: -40.02\n",
      "N_chains: 38\n",
      "Time: 80.234 seconds\n",
      "Computed energy: -39.87\n",
      "alpha: 5, n_samples: 6144\n",
      "N_chains: 2\n",
      "Time: 207.356 seconds\n",
      "Computed energy: -40.23\n",
      "N_chains: 4\n",
      "Time: 210.445 seconds\n",
      "Computed energy: -40.24\n",
      "N_chains: 6\n",
      "Time: 220.922 seconds\n",
      "Computed energy: -40.14\n",
      "N_chains: 8\n",
      "Time: 234.698 seconds\n",
      "Computed energy: -40.21\n",
      "N_chains: 10\n",
      "Time: 247.966 seconds\n",
      "Computed energy: -40.21\n",
      "N_chains: 12\n",
      "Time: 264.590 seconds\n",
      "Computed energy: -40.18\n",
      "N_chains: 14\n",
      "Time: 281.680 seconds\n",
      "Computed energy: -40.23\n",
      "N_chains: 16\n",
      "Time: 292.580 seconds\n",
      "Computed energy: -40.19\n",
      "N_chains: 18\n",
      "Time: 309.425 seconds\n",
      "Computed energy: -40.16\n",
      "N_chains: 20\n",
      "Time: 328.251 seconds\n",
      "Computed energy: -40.25\n",
      "N_chains: 22\n",
      "Time: 344.330 seconds\n",
      "Computed energy: -40.24\n",
      "N_chains: 24\n",
      "Time: 356.812 seconds\n",
      "Computed energy: -40.22\n",
      "N_chains: 26\n",
      "Time: 377.525 seconds\n",
      "Computed energy: -40.21\n",
      "N_chains: 28\n",
      "Time: 395.057 seconds\n",
      "Computed energy: -40.24\n",
      "N_chains: 30\n",
      "Time: 408.382 seconds\n",
      "Computed energy: -40.23\n",
      "N_chains: 32\n",
      "Time: 423.039 seconds\n",
      "Computed energy: -40.21\n",
      "N_chains: 34\n",
      "Time: 433.645 seconds\n",
      "Computed energy: -40.23\n",
      "N_chains: 36\n",
      "Time: 451.420 seconds\n",
      "Computed energy: -40.21\n",
      "N_chains: 38\n",
      "Time: 466.340 seconds\n",
      "Computed energy: -40.19\n"
     ]
    }
   ],
   "source": [
    "with jax.default_device(cpu):\n",
    "    for alpha, n_samples in product(alpha_list, samples_list):\n",
    "        t_res = []\n",
    "        print(f'alpha: {alpha}, n_samples: {n_samples}')\n",
    "        for n_chains in n_chains_list:\n",
    "            honey = nk.graph.Honeycomb(extent=extent, pbc=True)\n",
    "            hilbert = nk.hilbert.Spin(s=1/2, N=honey.n_nodes, total_sz=Sz)\n",
    "            hamiltonian = nk.operator.Heisenberg(hilbert=hilbert, graph=honey, J=1)\n",
    "            sampler = nk.sampler.MetropolisExchange(hilbert=hilbert, graph=honey, n_chains_per_rank=n_chains)\n",
    "            optimizer = nk.optimizer.Sgd(learning_rate=lr)\n",
    "            sr = nk.optimizer.SR(diag_shift=ds, holomorphic=True)\n",
    "            rbm = RestrictedBoltzmannMachine(alpha=alpha, param_dtype=jnp.complex64)\n",
    "            vstate = nk.vqs.MCState(sampler, rbm, n_samples=n_samples)\n",
    "            gs = nk.VMC(hamiltonian=hamiltonian, optimizer=optimizer, \n",
    "                        preconditioner=sr, variational_state=vstate)\n",
    "            \n",
    "            start = time()\n",
    "            gs.run(n_iter=n_iter, show_progress=False)\n",
    "            print(f'N_chains: {n_chains}')\n",
    "            print(f'Time: {(t := time()-start):.3f} seconds')\n",
    "            t_res.append(t)\n",
    "            print(f'Computed energy: {gs.energy.mean.real:.2f}')\n",
    "        cpu_results[(alpha, n_samples)] = t_res"
   ],
   "metadata": {
    "collapsed": false,
    "ExecuteTime": {
     "end_time": "2024-08-26T17:25:25.011176700Z",
     "start_time": "2024-08-26T14:28:37.085176Z"
    }
   },
   "id": "c77e9e373b0e87d8",
   "execution_count": 7
  },
  {
   "cell_type": "code",
   "outputs": [],
   "source": [
    "cpu_total_result = {tuple(extent): cpu_results}"
   ],
   "metadata": {
    "collapsed": false,
    "ExecuteTime": {
     "end_time": "2024-08-26T18:03:20.026136500Z",
     "start_time": "2024-08-26T18:03:19.979136800Z"
    }
   },
   "id": "371b0c37358b4575",
   "execution_count": 8
  },
  {
   "cell_type": "code",
   "outputs": [],
   "source": [
    "extent = [5, 5]\n",
    "cpu_results2 = {}\n",
    "dn = 2\n",
    "n_iter = 30\n",
    "n_chains_list = np.arange(2, 10 * dn, dn).tolist()"
   ],
   "metadata": {
    "collapsed": false,
    "ExecuteTime": {
     "end_time": "2024-08-26T18:04:06.859692600Z",
     "start_time": "2024-08-26T18:04:06.810693200Z"
    }
   },
   "id": "c81a77c50fa7b392",
   "execution_count": 9
  },
  {
   "cell_type": "code",
   "outputs": [
    {
     "name": "stdout",
     "output_type": "stream",
     "text": [
      "alpha: 2, n_samples: 1024\n",
      "N_chains: 2\n",
      "Time: 102.963 seconds\n",
      "Computed energy: -106.94\n",
      "N_chains: 4\n",
      "Time: 101.845 seconds\n",
      "Computed energy: -107.01\n",
      "N_chains: 6\n",
      "Time: 115.000 seconds\n",
      "Computed energy: -106.84\n",
      "N_chains: 8\n",
      "Time: 118.444 seconds\n",
      "Computed energy: -106.83\n",
      "N_chains: 10\n",
      "Time: 131.189 seconds\n",
      "Computed energy: -106.58\n",
      "N_chains: 12\n",
      "Time: 135.832 seconds\n",
      "Computed energy: -106.75\n",
      "N_chains: 14\n",
      "Time: 148.685 seconds\n",
      "Computed energy: -106.96\n",
      "N_chains: 16\n",
      "Time: 149.997 seconds\n",
      "Computed energy: -106.94\n",
      "N_chains: 18\n",
      "Time: 159.666 seconds\n",
      "Computed energy: -106.89\n",
      "alpha: 2, n_samples: 6144\n",
      "N_chains: 2\n",
      "Time: 595.284 seconds\n",
      "Computed energy: -108.12\n",
      "N_chains: 4\n",
      "Time: 601.226 seconds\n",
      "Computed energy: -108.14\n",
      "N_chains: 6\n",
      "Time: 650.185 seconds\n",
      "Computed energy: -108.24\n",
      "N_chains: 8\n",
      "Time: 661.336 seconds\n",
      "Computed energy: -108.19\n",
      "N_chains: 10\n",
      "Time: 754.075 seconds\n",
      "Computed energy: -108.17\n",
      "N_chains: 12\n",
      "Time: 812.774 seconds\n",
      "Computed energy: -108.14\n",
      "N_chains: 14\n",
      "Time: 870.921 seconds\n",
      "Computed energy: -108.26\n",
      "N_chains: 16\n",
      "Time: 898.911 seconds\n",
      "Computed energy: -108.26\n",
      "N_chains: 18\n",
      "Time: 947.679 seconds\n",
      "Computed energy: -108.14\n",
      "alpha: 5, n_samples: 1024\n",
      "N_chains: 2\n",
      "Time: 235.946 seconds\n",
      "Computed energy: -107.27\n",
      "N_chains: 4\n",
      "Time: 238.180 seconds\n",
      "Computed energy: -107.45\n",
      "N_chains: 6\n",
      "Time: 265.381 seconds\n",
      "Computed energy: -107.19\n",
      "N_chains: 8\n",
      "Time: 288.580 seconds\n",
      "Computed energy: -107.20\n",
      "N_chains: 10\n",
      "Time: 311.780 seconds\n",
      "Computed energy: -107.10\n",
      "N_chains: 12\n",
      "Time: 323.253 seconds\n",
      "Computed energy: -107.36\n",
      "N_chains: 14\n",
      "Time: 349.884 seconds\n",
      "Computed energy: -107.04\n",
      "N_chains: 16\n",
      "Time: 363.329 seconds\n",
      "Computed energy: -107.44\n",
      "N_chains: 18\n",
      "Time: 385.122 seconds\n",
      "Computed energy: -107.07\n",
      "alpha: 5, n_samples: 6144\n",
      "N_chains: 2\n",
      "Time: 1453.654 seconds\n",
      "Computed energy: -108.30\n",
      "N_chains: 4\n",
      "Time: 1476.227 seconds\n",
      "Computed energy: -108.28\n",
      "N_chains: 6\n",
      "Time: 1628.231 seconds\n",
      "Computed energy: -108.24\n",
      "N_chains: 8\n",
      "Time: 1707.348 seconds\n",
      "Computed energy: -108.31\n",
      "N_chains: 10\n",
      "Time: 1841.267 seconds\n",
      "Computed energy: -108.28\n",
      "N_chains: 12\n",
      "Time: 1926.632 seconds\n",
      "Computed energy: -108.27\n"
     ]
    }
   ],
   "source": [
    "with jax.default_device(cpu):\n",
    "    for alpha, n_samples in product(alpha_list, samples_list):\n",
    "        t_res = []\n",
    "        print(f'alpha: {alpha}, n_samples: {n_samples}')\n",
    "        for n_chains in n_chains_list:\n",
    "            honey = nk.graph.Honeycomb(extent=extent, pbc=True)\n",
    "            hilbert = nk.hilbert.Spin(s=1/2, N=honey.n_nodes, total_sz=Sz)\n",
    "            hamiltonian = nk.operator.Heisenberg(hilbert=hilbert, graph=honey, J=1)\n",
    "            sampler = nk.sampler.MetropolisExchange(hilbert=hilbert, graph=honey, n_chains_per_rank=n_chains)\n",
    "            optimizer = nk.optimizer.Sgd(learning_rate=lr)\n",
    "            sr = nk.optimizer.SR(diag_shift=ds, holomorphic=True)\n",
    "            rbm = RestrictedBoltzmannMachine(alpha=alpha, param_dtype=jnp.complex64)\n",
    "            vstate = nk.vqs.MCState(sampler, rbm, n_samples=n_samples)\n",
    "            gs = nk.VMC(hamiltonian=hamiltonian, optimizer=optimizer, \n",
    "                        preconditioner=sr, variational_state=vstate)\n",
    "            \n",
    "            start = time()\n",
    "            gs.run(n_iter=n_iter, show_progress=False)\n",
    "            print(f'N_chains: {n_chains}')\n",
    "            print(f'Time: {(t := time()-start):.3f} seconds')\n",
    "            t_res.append(t)\n",
    "            print(f'Computed energy: {gs.energy.mean.real:.2f}')\n",
    "        cpu_results2[(alpha, n_samples)] = t_res"
   ],
   "metadata": {
    "collapsed": false,
    "is_executing": true,
    "ExecuteTime": {
     "start_time": "2024-08-26T18:05:13.701060Z"
    }
   },
   "id": "d16411747b0315fb"
  },
  {
   "cell_type": "code",
   "outputs": [],
   "source": [],
   "metadata": {
    "collapsed": false
   },
   "id": "9edbf30e1a8e308"
  }
 ],
 "metadata": {
  "kernelspec": {
   "display_name": "Python 3",
   "language": "python",
   "name": "python3"
  },
  "language_info": {
   "codemirror_mode": {
    "name": "ipython",
    "version": 2
   },
   "file_extension": ".py",
   "mimetype": "text/x-python",
   "name": "python",
   "nbconvert_exporter": "python",
   "pygments_lexer": "ipython2",
   "version": "2.7.6"
  }
 },
 "nbformat": 4,
 "nbformat_minor": 5
}
