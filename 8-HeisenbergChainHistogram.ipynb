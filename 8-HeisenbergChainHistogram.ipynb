{
 "cells": [
  {
   "cell_type": "code",
   "execution_count": 1,
   "id": "initial_id",
   "metadata": {
    "collapsed": true,
    "ExecuteTime": {
     "end_time": "2024-08-27T20:28:24.327032600Z",
     "start_time": "2024-08-27T20:28:21.145535900Z"
    }
   },
   "outputs": [],
   "source": [
    "import netket as nk\n",
    "import jax\n",
    "import jax.numpy as jnp\n",
    "import numpy as np\n",
    "from time import time\n",
    "from Models import RestrictedBoltzmannMachine\n",
    "from itertools import product\n",
    "from matplotlib import pyplot as plt\n",
    "from pathlib import Path\n",
    "import pickle"
   ]
  },
  {
   "cell_type": "code",
   "outputs": [
    {
     "data": {
      "text/plain": "[CudaDevice(id=0)]"
     },
     "execution_count": 2,
     "metadata": {},
     "output_type": "execute_result"
    }
   ],
   "source": [
    "image_path = Path('./images/8-HeisenbergChainHistogram')\n",
    "res_path = Path('./Simulations/8-HeisenbergChainHistogram')\n",
    "jax.devices()"
   ],
   "metadata": {
    "collapsed": false,
    "ExecuteTime": {
     "end_time": "2024-08-27T20:29:58.142033600Z",
     "start_time": "2024-08-27T20:29:58.134035100Z"
    }
   },
   "id": "10c2b19aeca2bf17",
   "execution_count": 2
  },
  {
   "cell_type": "code",
   "outputs": [],
   "source": [
    "n_samples = 4 * 1024\n",
    "alpha = 6\n",
    "Sz = 0\n",
    "ds = 0.1\n",
    "n_iter = 20\n",
    "dL = 10"
   ],
   "metadata": {
    "collapsed": false,
    "ExecuteTime": {
     "end_time": "2024-08-27T20:33:46.846769Z",
     "start_time": "2024-08-27T20:33:46.836768600Z"
    }
   },
   "id": "62dddf5e961a86ad",
   "execution_count": 4
  },
  {
   "cell_type": "code",
   "outputs": [
    {
     "data": {
      "text/plain": "[20, 30, 40, 50, 60, 70, 80, 90, 100]"
     },
     "execution_count": 6,
     "metadata": {},
     "output_type": "execute_result"
    }
   ],
   "source": [
    "L_list = np.arange(20, 11 * dL, dL).tolist()\n",
    "L_list"
   ],
   "metadata": {
    "collapsed": false,
    "ExecuteTime": {
     "end_time": "2024-08-27T20:34:37.684765600Z",
     "start_time": "2024-08-27T20:34:37.677271Z"
    }
   },
   "id": "bbdc0d06741aeb5a",
   "execution_count": 6
  },
  {
   "cell_type": "code",
   "outputs": [],
   "source": [],
   "metadata": {
    "collapsed": false
   },
   "id": "c59421fe2b78506f"
  }
 ],
 "metadata": {
  "kernelspec": {
   "display_name": "Python 3",
   "language": "python",
   "name": "python3"
  },
  "language_info": {
   "codemirror_mode": {
    "name": "ipython",
    "version": 2
   },
   "file_extension": ".py",
   "mimetype": "text/x-python",
   "name": "python",
   "nbconvert_exporter": "python",
   "pygments_lexer": "ipython2",
   "version": "2.7.6"
  }
 },
 "nbformat": 4,
 "nbformat_minor": 5
}
