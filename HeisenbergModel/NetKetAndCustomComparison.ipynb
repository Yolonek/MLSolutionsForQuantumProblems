{
 "cells": [
  {
   "cell_type": "markdown",
   "source": [
    "comparison of diagonalization between the models"
   ],
   "metadata": {
    "collapsed": false
   },
   "id": "db8622d21baadb2e"
  },
  {
   "cell_type": "code",
   "execution_count": 1,
   "id": "initial_id",
   "metadata": {
    "collapsed": true,
    "ExecuteTime": {
     "end_time": "2024-05-21T16:25:33.280436Z",
     "start_time": "2024-05-21T16:25:32.080440200Z"
    }
   },
   "outputs": [],
   "source": [
    "from HamiltonianClass import Hamiltonian, HamiltonianSandvik\n",
    "from time import time\n",
    "from numpy.linalg import eigvalsh\n",
    "from pympler import asizeof"
   ]
  },
  {
   "cell_type": "markdown",
   "source": [
    "Old model"
   ],
   "metadata": {
    "collapsed": false
   },
   "id": "8013f7a70179e913"
  },
  {
   "cell_type": "code",
   "outputs": [],
   "source": [
    "L, J, delta = 14, 1, 1\n",
    "pbc = True\n",
    "m = 0"
   ],
   "metadata": {
    "collapsed": false,
    "ExecuteTime": {
     "end_time": "2024-05-21T16:25:51.588922600Z",
     "start_time": "2024-05-21T16:25:51.579923Z"
    }
   },
   "id": "98fa2e9de6c68e28",
   "execution_count": 7
  },
  {
   "cell_type": "code",
   "outputs": [
    {
     "name": "stdout",
     "output_type": "stream",
     "text": [
      "Ground state for H_old: -6.263549533547024\n",
      "Time: 4.0135 seconds\n",
      "Memory allocated: 94229.1360 KB\n"
     ]
    }
   ],
   "source": [
    "time_start = time()\n",
    "H_old = Hamiltonian(L=L, J=J, delta=delta, is_pbc=pbc)\n",
    "H_old.block_concatenation(total_spin=m)\n",
    "H_old.prepare_hamiltonian()\n",
    "memory_H_old = asizeof.asizeof(H_old.matrix) / 1000\n",
    "ground_state_H_old = eigvalsh(H_old.matrix)[0]\n",
    "time_H_old = time() - time_start\n",
    "print(f'Ground state for H_old: {ground_state_H_old}\\n'\n",
    "      f'Time: {time_H_old:.4f} seconds\\n'\n",
    "      f'Memory allocated: {memory_H_old:.4f} KB')"
   ],
   "metadata": {
    "collapsed": false,
    "ExecuteTime": {
     "end_time": "2024-05-21T16:25:55.831932600Z",
     "start_time": "2024-05-21T16:25:51.816931800Z"
    }
   },
   "id": "d8d3397e3c398fb1",
   "execution_count": 8
  },
  {
   "cell_type": "markdown",
   "source": [
    "Newer model"
   ],
   "metadata": {
    "collapsed": false
   },
   "id": "c10bb22b84ce72a3"
  },
  {
   "cell_type": "code",
   "outputs": [
    {
     "name": "stdout",
     "output_type": "stream",
     "text": [
      "System size: 64 x 64\n",
      "Basis:\n",
      "   000111   001011   001101   001110   010011   010101   010110   011001   011010   011100   100011   100101   100110   101001   101010   101100   110001   110010   110100   111000   \n"
     ]
    },
    {
     "ename": "IndexError",
     "evalue": "index 38 is out of bounds for axis 1 with size 20",
     "output_type": "error",
     "traceback": [
      "\u001B[1;31m---------------------------------------------------------------------------\u001B[0m",
      "\u001B[1;31mIndexError\u001B[0m                                Traceback (most recent call last)",
      "Cell \u001B[1;32mIn[9], line 4\u001B[0m\n\u001B[0;32m      2\u001B[0m H_new \u001B[38;5;241m=\u001B[39m HamiltonianSandvik(L\u001B[38;5;241m=\u001B[39m\u001B[38;5;241m6\u001B[39m, J\u001B[38;5;241m=\u001B[39mJ, delta\u001B[38;5;241m=\u001B[39mdelta, is_pbc\u001B[38;5;241m=\u001B[39mpbc)\n\u001B[0;32m      3\u001B[0m H_new\u001B[38;5;241m.\u001B[39mconstruct_hamiltonian(magnetization\u001B[38;5;241m=\u001B[39mm)\n\u001B[1;32m----> 4\u001B[0m \u001B[43mH_new\u001B[49m\u001B[38;5;241;43m.\u001B[39;49m\u001B[43mprint_matrix\u001B[49m\u001B[43m(\u001B[49m\u001B[43m)\u001B[49m\n",
      "File \u001B[1;32m~\\Desktop\\Programming\\MLSolutionsForQuantumProblems\\HeisenbergModel\\HamiltonianClass.py:121\u001B[0m, in \u001B[0;36mHamiltonianSandvik.print_matrix\u001B[1;34m(self)\u001B[0m\n\u001B[0;32m    119\u001B[0m \u001B[38;5;28mprint\u001B[39m(\u001B[38;5;124m'\u001B[39m\u001B[38;5;130;01m\\n\u001B[39;00m\u001B[38;5;124m'\u001B[39m)\n\u001B[0;32m    120\u001B[0m \u001B[38;5;66;03m#     pa.mat(self.get_hamiltonian_as_dense_matrix()[m_basis][:, m_basis]).print()\u001B[39;00m\n\u001B[1;32m--> 121\u001B[0m pa\u001B[38;5;241m.\u001B[39mmat(\u001B[38;5;28;43mself\u001B[39;49m\u001B[38;5;241;43m.\u001B[39;49m\u001B[43mget_hamiltonian_as_dense_matrix\u001B[49m\u001B[43m(\u001B[49m\u001B[43m)\u001B[49m)\u001B[38;5;241m.\u001B[39mprint()\n",
      "File \u001B[1;32m~\\Desktop\\Programming\\MLSolutionsForQuantumProblems\\HeisenbergModel\\HamiltonianClass.py:107\u001B[0m, in \u001B[0;36mHamiltonianSandvik.get_hamiltonian_as_dense_matrix\u001B[1;34m(self)\u001B[0m\n\u001B[0;32m    105\u001B[0m     hamiltonian \u001B[38;5;241m=\u001B[39m np\u001B[38;5;241m.\u001B[39mzeros((\u001B[38;5;28mself\u001B[39m\u001B[38;5;241m.\u001B[39msystem_size, \u001B[38;5;28mself\u001B[39m\u001B[38;5;241m.\u001B[39msystem_size))\n\u001B[0;32m    106\u001B[0m \u001B[38;5;28;01mfor\u001B[39;00m (i, j), value \u001B[38;5;129;01min\u001B[39;00m \u001B[38;5;28mself\u001B[39m\u001B[38;5;241m.\u001B[39mH_dict\u001B[38;5;241m.\u001B[39mitems():\n\u001B[1;32m--> 107\u001B[0m     \u001B[43mhamiltonian\u001B[49m\u001B[43m[\u001B[49m\u001B[43mi\u001B[49m\u001B[43m,\u001B[49m\u001B[43m \u001B[49m\u001B[43mj\u001B[49m\u001B[43m]\u001B[49m \u001B[38;5;241m=\u001B[39m value\n\u001B[0;32m    108\u001B[0m \u001B[38;5;28;01mreturn\u001B[39;00m hamiltonian\n",
      "\u001B[1;31mIndexError\u001B[0m: index 38 is out of bounds for axis 1 with size 20"
     ]
    }
   ],
   "source": [
    "time_start = time()\n",
    "H_new = HamiltonianSandvik(L=6, J=J, delta=delta, is_pbc=pbc)\n",
    "H_new.construct_hamiltonian(magnetization=m)\n",
    "H_new.print_matrix()"
   ],
   "metadata": {
    "collapsed": false,
    "ExecuteTime": {
     "end_time": "2024-05-21T16:28:32.741378200Z",
     "start_time": "2024-05-21T16:28:32.689880900Z"
    }
   },
   "id": "d86db9dab618cf39",
   "execution_count": 9
  },
  {
   "cell_type": "code",
   "outputs": [],
   "source": [],
   "metadata": {
    "collapsed": false
   },
   "id": "b4b79f44cbd78b55"
  }
 ],
 "metadata": {
  "kernelspec": {
   "display_name": "Python 3",
   "language": "python",
   "name": "python3"
  },
  "language_info": {
   "codemirror_mode": {
    "name": "ipython",
    "version": 2
   },
   "file_extension": ".py",
   "mimetype": "text/x-python",
   "name": "python",
   "nbconvert_exporter": "python",
   "pygments_lexer": "ipython2",
   "version": "2.7.6"
  }
 },
 "nbformat": 4,
 "nbformat_minor": 5
}
