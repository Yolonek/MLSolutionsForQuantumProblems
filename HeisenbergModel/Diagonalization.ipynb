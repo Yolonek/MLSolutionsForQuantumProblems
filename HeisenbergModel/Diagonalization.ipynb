{
 "cells": [
  {
   "cell_type": "code",
   "execution_count": 1,
   "id": "ba5c0f32534789a",
   "metadata": {
    "ExecuteTime": {
     "end_time": "2024-04-24T14:24:02.280655200Z",
     "start_time": "2024-04-24T14:24:01.719655100Z"
    },
    "collapsed": false,
    "jupyter": {
     "outputs_hidden": false
    }
   },
   "outputs": [],
   "source": [
    "import ipywidgets\n",
    "from OperatorFunctions import *\n",
    "from CommonFunctions import *\n",
    "from HamiltonianClass import Hamiltonian\n",
    "from matplotlib import pyplot as plt\n",
    "%matplotlib inline"
   ]
  },
  {
   "cell_type": "markdown",
   "id": "e1e09ebdf7d1ce52",
   "metadata": {
    "collapsed": false,
    "jupyter": {
     "outputs_hidden": false
    }
   },
   "source": [
    "## Heisenberg Hamiltonian\n",
    "\n",
    "# <center>$\\hat{H} = \\frac{J}{2}\\sum_{i=1}^{L-1}\\left(\\hat{S}_i^+\\hat{S}_{i+1}^- + \\hat{S}_i^-\\hat{S}_{i+1}^+ \\right) + J\\Delta\\sum_{i=1}^{L-1}\\hat{S}_i^z\\hat{S}_{i+1}^z$</center>\n",
    "\n",
    "Where:\n",
    "\n",
    "* $L$ is the number of spins in the system\n",
    "* $J$ describes the type of interaction\n",
    "* $\\Delta$ describes anisotropy of the system and $\\Delta = 1$ means isotropic case\n",
    "* $\\hat{S}^+$ is a creation operaton\n",
    "* $\\hat{S}^-$ is an annihilation operator\n",
    "* $\\hat{S}^z$ is a spin-projection operator"
   ]
  },
  {
   "cell_type": "markdown",
   "id": "966fde522ac7110b",
   "metadata": {
    "collapsed": false,
    "jupyter": {
     "outputs_hidden": false
    }
   },
   "source": [
    "## Spin Operators\n",
    "We represent spin in bra-ket notation, where $|\\uparrow\\rangle$ means spin up and $|\\downarrow\\rangle$ means spin down.\n",
    "\n",
    "In the model we use three types of operators:\n",
    "   * Creation operator: $\\hat{S}^+ = \\hat{S}^x + i\\hat{S}^y$</li>\n",
    "   * Annihilation operator: $\\hat{S}^- = \\hat{S}^x - i\\hat{S}^y$</li>\n",
    "   * Projection operator onto Z axis: $\\hat{S}^z$</li>"
   ]
  },
  {
   "cell_type": "markdown",
   "id": "b29ac27c5adfa873",
   "metadata": {
    "collapsed": false,
    "jupyter": {
     "outputs_hidden": false
    }
   },
   "source": [
    "And each one of them must satisfy two properties:\n",
    "   * $\\hat{S}^+|\\uparrow\\rangle = 0$ and $\\hat{S}^+|\\downarrow\\rangle = |\\uparrow\\rangle$\n",
    "   * $\\hat{S}^-|\\uparrow\\rangle = |\\downarrow\\rangle$ and $\\hat{S}^-|\\downarrow\\rangle = 0$\n",
    "   * $\\hat{S}^z|\\uparrow\\rangle = \\frac{1}{2}|\\uparrow\\rangle$ and $\\hat{S}^z|\\downarrow\\rangle = -\\frac{1}{2}|\\downarrow\\rangle$"
   ]
  },
  {
   "cell_type": "code",
   "execution_count": 2,
   "id": "c0408afab4fb9056",
   "metadata": {
    "ExecuteTime": {
     "end_time": "2024-04-24T14:24:02.296155700Z",
     "start_time": "2024-04-24T14:24:02.283155500Z"
    },
    "collapsed": false,
    "jupyter": {
     "outputs_hidden": false
    }
   },
   "outputs": [
    {
     "name": "stdout",
     "output_type": "stream",
     "text": [
      "Spin state after applying operators went from state |0110> to |1010>\n"
     ]
    }
   ],
   "source": [
    "spin_state = '0110'\n",
    "new_state = s_plus_minus(0, spin_state) # 0 means we start from spin at index 0\n",
    "print(f'Spin state after applying operators went from state |{spin_state}> to |{new_state}>')"
   ]
  },
  {
   "cell_type": "code",
   "execution_count": 3,
   "id": "1d76a3470bd9e48b",
   "metadata": {
    "ExecuteTime": {
     "end_time": "2024-04-24T14:24:02.330658300Z",
     "start_time": "2024-04-24T14:24:02.298158400Z"
    },
    "collapsed": false,
    "jupyter": {
     "outputs_hidden": false
    }
   },
   "outputs": [
    {
     "name": "stdout",
     "output_type": "stream",
     "text": [
      "Spin state after applying operators went from state |1001> to |1001>\n"
     ]
    }
   ],
   "source": [
    "spin_state = '1010'\n",
    "new_state = s_minus_plus(2, new_state)\n",
    "print(f'Spin state after applying operators went from state |{new_state}> to |{new_state}>')"
   ]
  },
  {
   "cell_type": "code",
   "execution_count": 4,
   "id": "aaa72c394b1dc82e",
   "metadata": {
    "ExecuteTime": {
     "end_time": "2024-04-24T14:24:02.331656Z",
     "start_time": "2024-04-24T14:24:02.312658Z"
    },
    "collapsed": false,
    "jupyter": {
     "outputs_hidden": false
    }
   },
   "outputs": [
    {
     "data": {
      "text/plain": [
       "''"
      ]
     },
     "execution_count": 4,
     "metadata": {},
     "output_type": "execute_result"
    }
   ],
   "source": [
    "s_minus_plus(2, '1001') # returns empty string if applying operator results in 0"
   ]
  },
  {
   "cell_type": "code",
   "execution_count": 5,
   "id": "291752b537d2a8bc",
   "metadata": {
    "ExecuteTime": {
     "end_time": "2024-04-24T14:24:02.360656700Z",
     "start_time": "2024-04-24T14:24:02.329159400Z"
    },
    "collapsed": false,
    "jupyter": {
     "outputs_hidden": false
    }
   },
   "outputs": [
    {
     "name": "stdout",
     "output_type": "stream",
     "text": [
      "Spin state after applying operators went from state |1010> to |0011>\n"
     ]
    }
   ],
   "source": [
    "new_state = '1010'\n",
    "boundary_state = s_plus_minus_boundary(new_state)\n",
    "print(f'Spin state after applying operators went from state |{new_state}> to |{boundary_state}>')"
   ]
  },
  {
   "cell_type": "code",
   "execution_count": 6,
   "id": "47d2fad4bf14903b",
   "metadata": {
    "ExecuteTime": {
     "end_time": "2024-04-24T14:24:02.361655900Z",
     "start_time": "2024-04-24T14:24:02.344156600Z"
    },
    "collapsed": false,
    "jupyter": {
     "outputs_hidden": false
    }
   },
   "outputs": [
    {
     "name": "stdout",
     "output_type": "stream",
     "text": [
      "In the state |0101> spin number 1 gives value -0.5 and spin 2 gives 0.5\n"
     ]
    }
   ],
   "source": [
    "new_state = '0101'\n",
    "proj1 = s_z(0, new_state)\n",
    "proj2 = s_z(1, new_state)\n",
    "print(f'In the state |{new_state}> spin number 1 gives value {proj1} and spin 2 gives {proj2}')"
   ]
  },
  {
   "cell_type": "code",
   "execution_count": 7,
   "id": "cdafb053a62cd058",
   "metadata": {
    "ExecuteTime": {
     "end_time": "2024-04-24T14:24:02.396155Z",
     "start_time": "2024-04-24T14:24:02.360155300Z"
    },
    "collapsed": false,
    "jupyter": {
     "outputs_hidden": false
    }
   },
   "outputs": [
    {
     "name": "stdout",
     "output_type": "stream",
     "text": [
      "Total spin of state |0000>: -2.0\n",
      "Total spin of state |0011>: 0.0\n",
      "Total spin of state |1111>: 2.0\n"
     ]
    }
   ],
   "source": [
    "zero_state = '0000'\n",
    "one_state = '1111'\n",
    "spin_zero_state = '0011'\n",
    "\n",
    "total_spin1 = s_total(zero_state)\n",
    "total_spin2 = s_total(spin_zero_state)\n",
    "total_spin3 = s_total(one_state)\n",
    "\n",
    "print(f'Total spin of state |{zero_state}>: {total_spin1}')\n",
    "print(f'Total spin of state |{spin_zero_state}>: {total_spin2}')\n",
    "print(f'Total spin of state |{one_state}>: {total_spin3}')"
   ]
  },
  {
   "cell_type": "markdown",
   "id": "4fa3e1587e36c78c",
   "metadata": {
    "collapsed": false,
    "jupyter": {
     "outputs_hidden": false
    }
   },
   "source": [
    "## Basis\n",
    "\n",
    "We put a number and specify bitstring length"
   ]
  },
  {
   "cell_type": "code",
   "execution_count": 8,
   "id": "21f12b222977dbf1",
   "metadata": {
    "ExecuteTime": {
     "end_time": "2024-04-24T14:24:02.397155Z",
     "start_time": "2024-04-24T14:24:02.375157800Z"
    },
    "collapsed": false,
    "jupyter": {
     "outputs_hidden": false
    }
   },
   "outputs": [
    {
     "data": {
      "text/plain": [
       "'00'"
      ]
     },
     "execution_count": 8,
     "metadata": {},
     "output_type": "execute_result"
    }
   ],
   "source": [
    "integer_to_binary(0, 2)"
   ]
  },
  {
   "cell_type": "code",
   "execution_count": 9,
   "id": "32db83e004d1a966",
   "metadata": {
    "ExecuteTime": {
     "end_time": "2024-04-24T14:24:02.432155400Z",
     "start_time": "2024-04-24T14:24:02.390157600Z"
    },
    "collapsed": false,
    "jupyter": {
     "outputs_hidden": false
    }
   },
   "outputs": [
    {
     "data": {
      "text/plain": [
       "'0100000110'"
      ]
     },
     "execution_count": 9,
     "metadata": {},
     "output_type": "execute_result"
    }
   ],
   "source": [
    "integer_to_binary(262, 10)"
   ]
  },
  {
   "cell_type": "markdown",
   "id": "6c30f0342b012ec4",
   "metadata": {
    "collapsed": false,
    "jupyter": {
     "outputs_hidden": false
    }
   },
   "source": [
    "Basis elements for all possible values are stored in a generator"
   ]
  },
  {
   "cell_type": "code",
   "execution_count": 10,
   "id": "872c276bf22e1988",
   "metadata": {
    "ExecuteTime": {
     "end_time": "2024-04-24T14:24:02.433656800Z",
     "start_time": "2024-04-24T14:24:02.405657900Z"
    },
    "collapsed": false,
    "jupyter": {
     "outputs_hidden": false
    }
   },
   "outputs": [
    {
     "name": "stdout",
     "output_type": "stream",
     "text": [
      "0 -> |000>\n",
      "1 -> |001>\n",
      "2 -> |010>\n",
      "3 -> |011>\n",
      "4 -> |100>\n",
      "5 -> |101>\n",
      "6 -> |110>\n",
      "7 -> |111>\n"
     ]
    }
   ],
   "source": [
    "for i, basis_state in enumerate(generate_basis_states(start=0, stop=8, length=3)):\n",
    "    print(f'{i} -> |{basis_state}>')"
   ]
  },
  {
   "cell_type": "code",
   "execution_count": 11,
   "id": "e55f6d9e574b86e1",
   "metadata": {
    "ExecuteTime": {
     "end_time": "2024-04-24T14:24:02.465156Z",
     "start_time": "2024-04-24T14:24:02.422155600Z"
    },
    "collapsed": false,
    "jupyter": {
     "outputs_hidden": false
    }
   },
   "outputs": [
    {
     "name": "stdout",
     "output_type": "stream",
     "text": [
      "L = 3, J = 1, delta = 1, hamiltonian size: 8 x 8\n"
     ]
    }
   ],
   "source": [
    "L, J, delta = 3, 1, 1\n",
    "hamiltonian = Hamiltonian(L=L, J=J, delta=delta)\n",
    "hamiltonian.print_hamiltonian_data()"
   ]
  },
  {
   "cell_type": "code",
   "execution_count": 12,
   "id": "f71aa03f36a89e33",
   "metadata": {
    "ExecuteTime": {
     "end_time": "2024-04-24T14:24:02.466658500Z",
     "start_time": "2024-04-24T14:24:02.437159300Z"
    },
    "collapsed": false,
    "jupyter": {
     "outputs_hidden": false
    }
   },
   "outputs": [
    {
     "name": "stdout",
     "output_type": "stream",
     "text": [
      "Matrix size: 8 x 8\n",
      "Basis:\n",
      "      000      001      010      011      100      101      110      111      \n",
      "\n",
      "        0        0        0        0        0        0        0        0\n",
      "        0        0        0        0        0        0        0        0\n",
      "        0        0        0        0        0        0        0        0\n",
      "        0        0        0        0        0        0        0        0\n",
      "        0        0        0        0        0        0        0        0\n",
      "        0        0        0        0        0        0        0        0\n",
      "        0        0        0        0        0        0        0        0\n",
      "        0        0        0        0        0        0        0        0\n"
     ]
    }
   ],
   "source": [
    "hamiltonian.print_matrix()"
   ]
  },
  {
   "cell_type": "markdown",
   "id": "e8e5ea24173dbf5a",
   "metadata": {
    "collapsed": false,
    "jupyter": {
     "outputs_hidden": false
    }
   },
   "source": [
    "First part of the hamiltonian $H_k$:\n",
    "\n",
    "## $\\hat{H_k} = \\frac{J}{2}\\sum_{i=1}^{L-1}\\left(\\hat{S}_i^+\\hat{S}_{i+1}^- + \\hat{S}_i^-\\hat{S}_{i+1}^+ \\right)$"
   ]
  },
  {
   "cell_type": "code",
   "execution_count": 13,
   "id": "fa87f4e6b4b67e1e",
   "metadata": {
    "ExecuteTime": {
     "end_time": "2024-04-24T14:24:02.495157Z",
     "start_time": "2024-04-24T14:24:02.452159300Z"
    },
    "collapsed": false,
    "jupyter": {
     "outputs_hidden": false
    }
   },
   "outputs": [
    {
     "name": "stdout",
     "output_type": "stream",
     "text": [
      "Matrix size: 8 x 8\n",
      "Basis:\n",
      "      000      001      010      011      100      101      110      111      \n",
      "\n",
      "        0        0        0        0        0        0        0        0\n",
      "        0        0   0.5000        0        0        0        0        0\n",
      "        0   0.5000        0        0   0.5000        0        0        0\n",
      "        0        0        0        0        0   0.5000        0        0\n",
      "        0        0   0.5000        0        0        0        0        0\n",
      "        0        0        0   0.5000        0        0   0.5000        0\n",
      "        0        0        0        0        0   0.5000        0        0\n",
      "        0        0        0        0        0        0        0        0\n"
     ]
    }
   ],
   "source": [
    "hamiltonian._prepare_hamiltonian_k()\n",
    "hamiltonian.print_matrix()"
   ]
  },
  {
   "cell_type": "markdown",
   "id": "8ba400d3e2a10f72",
   "metadata": {
    "collapsed": false,
    "jupyter": {
     "outputs_hidden": false
    }
   },
   "source": [
    "and second part $H_p$:\n",
    "\n",
    "## $\\hat{H_p} = J\\Delta\\sum_{i=1}^{L-1}\\hat{S}_i^z\\hat{S}_{i+1}^z$"
   ]
  },
  {
   "cell_type": "code",
   "execution_count": 14,
   "id": "78b3ee50fceec9c",
   "metadata": {
    "ExecuteTime": {
     "end_time": "2024-04-24T14:24:02.498155800Z",
     "start_time": "2024-04-24T14:24:02.469155900Z"
    },
    "collapsed": false,
    "jupyter": {
     "outputs_hidden": false
    }
   },
   "outputs": [
    {
     "name": "stdout",
     "output_type": "stream",
     "text": [
      "Matrix size: 8 x 8\n",
      "Basis:\n",
      "      000      001      010      011      100      101      110      111      \n",
      "\n",
      "   0.5000        0        0        0        0        0        0        0\n",
      "        0        0        0        0        0        0        0        0\n",
      "        0        0  -0.5000        0        0        0        0        0\n",
      "        0        0        0        0        0        0        0        0\n",
      "        0        0        0        0        0        0        0        0\n",
      "        0        0        0        0        0  -0.5000        0        0\n",
      "        0        0        0        0        0        0        0        0\n",
      "        0        0        0        0        0        0        0   0.5000\n"
     ]
    }
   ],
   "source": [
    "hamiltonian.reset_hamiltonian()\n",
    "hamiltonian._prepare_hamiltonian_p()\n",
    "hamiltonian.print_matrix()"
   ]
  },
  {
   "cell_type": "markdown",
   "id": "6c8daf82b010241b",
   "metadata": {
    "collapsed": false,
    "jupyter": {
     "outputs_hidden": false
    }
   },
   "source": [
    "Both parts combined:"
   ]
  },
  {
   "cell_type": "code",
   "execution_count": 15,
   "id": "9072147f6d3947d0",
   "metadata": {
    "ExecuteTime": {
     "end_time": "2024-04-24T14:24:02.538155200Z",
     "start_time": "2024-04-24T14:24:02.484159400Z"
    },
    "collapsed": false,
    "jupyter": {
     "outputs_hidden": false
    }
   },
   "outputs": [
    {
     "name": "stdout",
     "output_type": "stream",
     "text": [
      "Matrix size: 8 x 8\n",
      "Basis:\n",
      "      000      001      010      011      100      101      110      111      \n",
      "\n",
      "   0.5000        0        0        0        0        0        0        0\n",
      "        0        0   0.5000        0        0        0        0        0\n",
      "        0   0.5000  -0.5000        0   0.5000        0        0        0\n",
      "        0        0        0        0        0   0.5000        0        0\n",
      "        0        0   0.5000        0        0        0        0        0\n",
      "        0        0        0   0.5000        0  -0.5000   0.5000        0\n",
      "        0        0        0        0        0   0.5000        0        0\n",
      "        0        0        0        0        0        0        0   0.5000\n"
     ]
    }
   ],
   "source": [
    "hamiltonian.prepare_hamiltonian()\n",
    "hamiltonian.print_matrix()"
   ]
  },
  {
   "cell_type": "markdown",
   "id": "ef125b2dd38c4490",
   "metadata": {
    "collapsed": false,
    "jupyter": {
     "outputs_hidden": false
    }
   },
   "source": [
    "## Periodic Boundary Conditions\n",
    "\n",
    "$\\hat{H} = \\frac{J}{2}\\sum_{i=1}^{L-1}\\left(\\hat{S}_i^+\\hat{S}_{i+1}^- + \\hat{S}_i^-\\hat{S}_{i+1}^+ \\right) + J\\Delta\\sum_{i=1}^{L-1}\\hat{S}_i^z\\hat{S}_{i+1}^z + \\frac{J}{2}\\left(\\hat{S}_L^+\\hat{S}_{1}^- + \\hat{S}_L^-\\hat{S}_{1}^+ \\right) + J\\Delta \\hat{S}_L^z\\hat{S}_{1}^z$"
   ]
  },
  {
   "cell_type": "code",
   "execution_count": 16,
   "id": "7011093ef299bf15",
   "metadata": {
    "ExecuteTime": {
     "end_time": "2024-04-24T14:24:02.540155300Z",
     "start_time": "2024-04-24T14:24:02.500156200Z"
    },
    "collapsed": false,
    "jupyter": {
     "outputs_hidden": false
    }
   },
   "outputs": [],
   "source": [
    "hamiltonian_pbc = Hamiltonian(L, J, delta, is_pbc=True)\n",
    "hamiltonian_pbc.prepare_hamiltonian()"
   ]
  },
  {
   "cell_type": "code",
   "execution_count": 17,
   "id": "58449de11217cc97",
   "metadata": {
    "ExecuteTime": {
     "end_time": "2024-04-24T14:24:03.287156900Z",
     "start_time": "2024-04-24T14:24:02.514658300Z"
    },
    "collapsed": false,
    "jupyter": {
     "outputs_hidden": false
    }
   },
   "outputs": [
    {
     "data": {
      "image/png": "[encoded data removed]",
      "text/plain": [
       "<Figure size 640x480 with 2 Axes>"
      ]
     },
     "metadata": {},
     "output_type": "display_data"
    }
   ],
   "source": [
    "figure, axes = plt.subplots(2, 1, layout='constrained')\n",
    "\n",
    "hamiltonian.plot_data(axes=axes[0])\n",
    "axes[0].set_title('OBC')\n",
    "\n",
    "hamiltonian_pbc.plot_data(axes=axes[1])\n",
    "axes[1].set_title('PBC');"
   ]
  },
  {
   "cell_type": "markdown",
   "id": "ef1ab98977da0b40",
   "metadata": {
    "collapsed": false,
    "jupyter": {
     "outputs_hidden": false
    }
   },
   "source": [
    "## Block Diagonalization\n",
    "\n",
    "We focus on total spin of the system (magnetization) $S^z_{tot} = \\sum_i S^z_i$.\n",
    "\n",
    "$S^z_{tot} = 0$"
   ]
  },
  {
   "cell_type": "code",
   "execution_count": 18,
   "id": "fc7b070a204bc349",
   "metadata": {
    "ExecuteTime": {
     "end_time": "2024-04-24T14:24:03.353655700Z",
     "start_time": "2024-04-24T14:24:03.289157600Z"
    },
    "collapsed": false,
    "jupyter": {
     "outputs_hidden": false
    }
   },
   "outputs": [
    {
     "name": "stdout",
     "output_type": "stream",
     "text": [
      "|0000>\n",
      "|0001>\n",
      "|0010>\n",
      "|0011>\n",
      "|0100>\n",
      "|0101>\n",
      "|0110>\n",
      "|0111>\n",
      "|1000>\n",
      "|1001>\n",
      "|1010>\n",
      "|1011>\n",
      "|1100>\n",
      "|1101>\n",
      "|1110>\n",
      "|1111>\n",
      "size of basis: 16\n"
     ]
    }
   ],
   "source": [
    "hamiltonian = Hamiltonian(L=4, J=1, delta=1)\n",
    "hamiltonian.print_basis()\n",
    "print(f'size of basis: {hamiltonian.system_size}')"
   ]
  },
  {
   "cell_type": "code",
   "execution_count": 19,
   "id": "438e078a0477df12",
   "metadata": {
    "ExecuteTime": {
     "end_time": "2024-04-24T14:24:03.354155400Z",
     "start_time": "2024-04-24T14:24:03.305656600Z"
    },
    "collapsed": false,
    "jupyter": {
     "outputs_hidden": false
    }
   },
   "outputs": [
    {
     "name": "stdout",
     "output_type": "stream",
     "text": [
      "|0011>\n",
      "|0101>\n",
      "|0110>\n",
      "|1001>\n",
      "|1010>\n",
      "|1100>\n",
      "size of basis: 6\n"
     ]
    }
   ],
   "source": [
    "hamiltonian.block_concatenation(total_spin=0)\n",
    "hamiltonian.print_basis()\n",
    "print(f'size of basis: {hamiltonian.system_size}')"
   ]
  },
  {
   "cell_type": "code",
   "execution_count": 20,
   "id": "3ad08185e2266c21",
   "metadata": {
    "ExecuteTime": {
     "end_time": "2024-04-24T14:24:31.578828700Z",
     "start_time": "2024-04-24T14:24:30.208828600Z"
    },
    "collapsed": false,
    "jupyter": {
     "outputs_hidden": false
    }
   },
   "outputs": [
    {
     "data": {
      "image/png": "[encoded data removed]",
      "text/plain": [
       "<Figure size 640x480 with 2 Axes>"
      ]
     },
     "metadata": {},
     "output_type": "display_data"
    }
   ],
   "source": [
    "hamiltonian_unreduced = Hamiltonian(L=4, J=1, delta=1)\n",
    "hamiltonian_unreduced.prepare_hamiltonian()\n",
    "hamiltonian.prepare_hamiltonian()\n",
    "\n",
    "figure2, axes2 = plt.subplots(2, 1, layout='constrained')\n",
    "\n",
    "hamiltonian_unreduced.plot_data(axes=axes2[0])\n",
    "axes2[0].set_title('Full-size Hamiltonian')\n",
    "\n",
    "hamiltonian.plot_data(axes=axes2[1])\n",
    "axes2[1].set_title('Spin-zero Hamiltonian');"
   ]
  },
  {
   "cell_type": "code",
   "execution_count": 23,
   "id": "5bf3b29dfa5b1e6a",
   "metadata": {
    "ExecuteTime": {
     "end_time": "2024-04-24T14:32:40.473185400Z",
     "start_time": "2024-04-24T14:32:40.457684600Z"
    },
    "collapsed": false,
    "jupyter": {
     "outputs_hidden": false
    }
   },
   "outputs": [],
   "source": [
    "def plot_hamiltonian(L=4, J=1, delta=1, pbc=False, block=False, total_spin=0):\n",
    "    h = Hamiltonian(L=L, J=J, delta=delta, is_pbc=pbc)\n",
    "    if block:\n",
    "        h.block_concatenation(total_spin=total_spin)\n",
    "    h.prepare_hamiltonian()\n",
    "    fig, ax = plt.subplots(1, 1, layout='constrained', figsize=(6, 6))\n",
    "    h.plot_data(axes=ax)"
   ]
  },
  {
   "cell_type": "code",
   "execution_count": 24,
   "id": "b9eb355424381e4d",
   "metadata": {
    "ExecuteTime": {
     "end_time": "2024-04-24T14:34:19.075498900Z",
     "start_time": "2024-04-24T14:34:18.224495900Z"
    },
    "collapsed": false,
    "jupyter": {
     "outputs_hidden": false
    }
   },
   "outputs": [
    {
     "data": {
      "application/vnd.jupyter.widget-view+json": {
       "model_id": "3f87407e834e42e4b43adaa98f705bc4",
       "version_major": 2,
       "version_minor": 0
      },
      "text/plain": [
       "interactive(children=(Dropdown(description='L', index=2, options=(2, 3, 4), value=4), FloatSlider(value=1.0, d…"
      ]
     },
     "metadata": {},
     "output_type": "display_data"
    }
   ],
   "source": [
    "ipywidgets.interact(plot_hamiltonian, L=[2, 3, 4, 5, 6], J=(-5, 5, 0.2), delta=(0, 5, 0.2),\n",
    "                    pbc=[True, False], total_spin=[-1, 0, 1]);"
   ]
  },
  {
   "cell_type": "code",
   "execution_count": null,
   "id": "fbf40f29371f3472",
   "metadata": {
    "collapsed": false,
    "jupyter": {
     "outputs_hidden": false
    }
   },
   "outputs": [],
   "source": []
  }
 ],
 "metadata": {
  "kernelspec": {
   "display_name": "Python 3 (ipykernel)",
   "language": "python",
   "name": "python3"
  },
  "language_info": {
   "codemirror_mode": {
    "name": "ipython",
    "version": 3
   },
   "file_extension": ".py",
   "mimetype": "text/x-python",
   "name": "python",
   "nbconvert_exporter": "python",
   "pygments_lexer": "ipython3",
   "version": "3.9.13"
  }
 },
 "nbformat": 4,
 "nbformat_minor": 5
}
